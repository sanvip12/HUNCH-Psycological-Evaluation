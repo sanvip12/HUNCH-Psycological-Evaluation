{
 "cells": [
  {
   "cell_type": "code",
   "execution_count": 14,
   "id": "531bda95-27a5-4260-ae80-7dbfc59bb285",
   "metadata": {},
   "outputs": [],
   "source": [
    "import pandas as pd\n",
    "from textblob import TextBlob\n",
    "\n",
    "\n",
    "def analyzestress(file_path):\n",
    "    #gets dataset\n",
    "    dataset = pd.read_csv(file_path, sep='\\t')\n",
    "\n",
    "    #checks dataset\n",
    "    if 'value' in dataset.columns and 'start_time' in dataset.columns:\n",
    "        \n",
    "        # gets sentiment\n",
    "        def get_sentiment(value):\n",
    "            analysis = TextBlob(value)\n",
    "            return analysis.sentiment.polarity\n",
    "\n",
    "        # finds sentiment value in dataset\n",
    "        dataset['sentiment'] = dataset['value'].apply(get_sentiment)\n",
    "\n",
    "        # sets corresponsing stress level\n",
    "        \n",
    "        def stresslevels (polarity):\n",
    "            if -1 < polarity < -0.5:\n",
    "                return \"High stress\"\n",
    "            elif -0.5 <= polarity <= 0.5:\n",
    "                return \"Neutral stress\"\n",
    "            else:\n",
    "                return \"Low stress\"\n",
    "\n",
    "        # labels each sentiment value as corresponsing stress level\n",
    "        dataset['stress_level'] = dataset['sentiment'].apply(stresslevels)\n",
    "\n",
    "        print(\"\\nSentiment Results:\")\n",
    "        print(dataset[['value', 'sentiment']])\n",
    "        \n",
    "        # Summarizes overall stress\n",
    "        stress_summary = dataset['stress_level'].value_counts(normalize=True) * 100\n",
    "        print(\"\\nOverall Stress Levels (%):\")\n",
    "        print(stress_summary)\n",
    "       \n",
    "        return dataset[['value', 'sentiment', 'stress_level']]\n",
    "    else:\n",
    "        print(\"DNE\")\n",
    "        return None\n"
   ]
  },
  {
   "cell_type": "code",
   "execution_count": 16,
   "id": "11b14dc1-19b9-40e7-b250-f864be314649",
   "metadata": {},
   "outputs": [
    {
     "name": "stdout",
     "output_type": "stream",
     "text": [
      "\n",
      "Sentiment Results:\n",
      "                                                 value  sentiment\n",
      "0              hi i'm ellie thanks for coming in today   0.200000\n",
      "1    i was created to talk to people in a safe and ...   0.450000\n",
      "2    think of me as a friend i don't judge i can't ...   0.000000\n",
      "3    i'm here to learn about people and would love ...   0.500000\n",
      "4    i'll ask a few questions to get us started and...   0.066667\n",
      "..                                                 ...        ...\n",
      "169                                               okay   0.500000\n",
      "170       okay i think i've asked everything i need to   0.500000\n",
      "171                                          thank you   0.000000\n",
      "172                                            goodbye   0.000000\n",
      "173                                            bye bye   0.000000\n",
      "\n",
      "[174 rows x 2 columns]\n",
      "\n",
      "Overall Stress Levels (%):\n",
      "stress_level\n",
      "Neutral stress    90.804598\n",
      "Low stress         8.045977\n",
      "High stress        1.149425\n",
      "Name: proportion, dtype: float64\n"
     ]
    }
   ],
   "source": [
    "\n",
    "results = analyzestress('data/USC/300_TRANSCRIPT.csv')\n",
    "\n",
    "\n"
   ]
  },
  {
   "cell_type": "code",
   "execution_count": null,
   "id": "fab9cad6-d0c8-4619-bd0d-2b7bb8f0e12e",
   "metadata": {},
   "outputs": [],
   "source": []
  }
 ],
 "metadata": {
  "kernelspec": {
   "display_name": "anaconda-2024.02-py310",
   "language": "python",
   "name": "conda-env-anaconda-2024.02-py310-py"
  },
  "language_info": {
   "codemirror_mode": {
    "name": "ipython",
    "version": 3
   },
   "file_extension": ".py",
   "mimetype": "text/x-python",
   "name": "python",
   "nbconvert_exporter": "python",
   "pygments_lexer": "ipython3",
   "version": "3.10.14"
  }
 },
 "nbformat": 4,
 "nbformat_minor": 5
}
